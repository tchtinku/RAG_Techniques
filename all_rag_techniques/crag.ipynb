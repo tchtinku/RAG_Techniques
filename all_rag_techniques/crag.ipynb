{
 "cells": [
  {
   "cell_type": "markdown",
   "metadata": {},
   "source": [
    "### Corrective RAG Process: Retrieval-Augmented Generation with Dynamic Correction\n",
    "\n",
    "#### Overview\n",
    "###### The Corrective RAG (Retrieval-Augmented Generation) process is an advanced information retrieval and response generation system. It extends the standard RAG approach by dynamically evaluating and correcting the retrieval process, combining the power of vector databases, web search, and language models to provide accurate and context-aware responses to user queries.\n",
    "\n",
    "#### Motivation\n",
    "###### While traditional RAG systems have improved information retrieval and response generation, they can still fall short when the retrieved information is irrelevant or outdated. The Corrective RAG process addresses these limitations by:\n",
    "\n",
    "###### Leveraging pre-existing knowledge bases\n",
    "###### Evaluating the relevance of retrieved information\n",
    "###### Dynamically searching the web when necessary\n",
    "###### Refining and combining knowledge from multiple sources\n",
    "###### Generating human-like responses based on the most appropriate knowledge\n",
    "\n",
    "#### Key Components\n",
    "###### FAISS Index: A vector database for efficient similarity search of pre-existing knowledge.\n",
    "###### Retrieval Evaluator: Assesses the relevance of retrieved documents to the query.\n",
    "###### Knowledge Refinement: Extracts key information from documents when necessary.\n",
    "###### Web Search Query Rewriter: Optimizes queries for web searches when local knowledge is insufficient.\n",
    "###### Response Generator: Creates human-like responses based on the accumulated knowledge.\n",
    "\n",
    "#### Method Details\n",
    "#### Document Retrieval:\n",
    "\n",
    "###### Performs similarity search in the FAISS index to find relevant documents.\n",
    "###### Retrieves top-k documents (default k=3).\n",
    "\n",
    "#### Document Evaluation:\n",
    "\n",
    "###### Calculates relevance scores for each retrieved document.\n",
    "###### Determines the best course of action based on the highest relevance score.\n",
    "\n",
    "#### Corrective Knowledge Acquisition:\n",
    "\n",
    "###### If high relevance (score > 0.7): Uses the most relevant document as-is.\n",
    "###### If low relevance (score < 0.3): Corrects by performing a web search with a rewritten query.\n",
    "###### If ambiguous (0.3 ≤ score ≤ 0.7): Corrects by combining the most relevant document with web search results.\n",
    " \n",
    "#### Adaptive Knowledge Processing:\n",
    "\n",
    "###### For web search results: Refines the knowledge to extract key points.\n",
    "###### For ambiguous cases: Combines raw document content with refined web search results.\n",
    "\n",
    "#### Response Generation:\n",
    "\n",
    "###### Uses a language model to generate a human-like response based on the query and acquired knowledge.\n",
    "###### Includes source information in the response for transparency.\n",
    "\n",
    "#### Benefits of the Corrective RAG Approach\n",
    "###### Dynamic Correction: Adapts to the quality of retrieved information, ensuring relevance and accuracy.\n",
    "###### Flexibility: Leverages both pre-existing knowledge and web search as needed.\n",
    "###### Accuracy: Evaluates the relevance of information before using it, ensuring high-quality responses.\n",
    "###### Transparency: Provides source information, allowing users to verify the origin of the information.\n",
    "###### Efficiency: Uses vector search for quick retrieval from large knowledge bases.\n",
    "###### Contextual Understanding: Combines multiple sources of information when necessary to provide comprehensive responses.\n",
    "###### Up-to-date Information: Can supplement or replace outdated local knowledge with current web information.\n",
    "\n",
    "#### Conclusion\n",
    "###### The Corrective RAG process represents a sophisticated evolution of the standard RAG approach. By intelligently evaluating and correcting the retrieval process, it overcomes common limitations of traditional RAG systems. This dynamic approach ensures that responses are based on the most relevant and up-to-date information available, whether from local knowledge bases or the web. The system's ability to adapt its information sourcing strategy based on relevance scores makes it particularly suited for applications requiring high accuracy and current information, such as research assistance, dynamic knowledge bases, and advanced question-answering systems.\n",
    "\n",
    "#### Import Relevant libraries"
   ]
  },
  {
   "cell_type": "code",
   "execution_count": null,
   "metadata": {
    "vscode": {
     "languageId": "plaintext"
    }
   },
   "outputs": [],
   "source": [
    "import os\n",
    "import sys\n",
    "from dotenv import load_dotenv\n",
    "from langchain.prompts import PromptTemplate\n",
    "from langchain_openai import ChatOpenAI\n",
    "from langchain_core.pydantic_v1 import BaseModel, Field\n",
    "\n",
    "sys.path.append(os.path.abspath(os.path.join(os.getcwd(), '..'))) #Add the parent directory to the path since we work with notebooks\n",
    "from helper_functions import *\n",
    "from evaluation.evaluate_rag import *\n",
    "\n",
    "#Load environment variables from a .env file\n",
    "load_dotenv()\n",
    "\n",
    "# Set the OpenAI API key environment variable\n",
    "os.environ[\"OPENAI_API_KEY\"] = os.getenv('OPENAI_API_KEY')\n",
    "from langchain.tools import DuckDuckGoSearchResults"
   ]
  }
 ],
 "metadata": {
  "language_info": {
   "name": "python"
  }
 },
 "nbformat": 4,
 "nbformat_minor": 2
}
