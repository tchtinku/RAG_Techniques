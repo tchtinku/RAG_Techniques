{
 "cells": [
  {
   "cell_type": "markdown",
   "metadata": {},
   "source": [
    "### Query Transformations for Improved Retrieval in RAG Systems\n",
    "\n",
    "#### Overview\n",
    "\n",
    "###### This code implements three query transformation techniques to enhance the retrieval process in Retrieval-Augmented Generation (RAG) systems:\n",
    "\n",
    "###### 1. Query Rewriting\n",
    "###### 2. Step-back Prompting\n",
    "###### 3. Sub-query Decomposition\n",
    "\n",
    "###### Each technique aims to improve the relevance and comprehensiveness of retrieved information by modifying or expanding the original query\n",
    "\n",
    "#### Motivation\n",
    "\n",
    "###### RAG systems often face challenges in retrieving the most relevant information, especially when dealing with complex or ambiguous queries. These query transformation techniques addresses this issue by reformulating queries to better match relevant documents or to retrieve more comprehensive information.\n",
    "\n",
    "#### Key Components\n",
    "\n",
    "###### 1. Query  Rewriting: Reformulates queries to be more specific and detailed.\n",
    "###### 2. Step-back Prompting: Generates broader queries for better context retrieval.\n",
    "###### 3. Sub-query Decomposition: Breaks down complex queries into simpler sub-queries.\n",
    "\n",
    "#### Method Details\n",
    "\n",
    "##### 1. Query Rewriting\n",
    "###### Purpose: To make queries more specific and detailed, improving the likelihood of retrieving relevant information.\n",
    "###### Implementation:\n",
    "###### Uses a GPT-4 model with a custom prompt template\n",
    "###### Takes the original query and reformulates it to be more specific detailed.\n",
    "\n",
    "##### 2. Step-back Prompting\n",
    "###### Purpose: To generate broader, more general queries that can help retrieve relevant background information.\n",
    "###### Implementation:\n",
    "###### Uses a GPT-4 model with a custom prompt template\n",
    "###### Takes the original query and generates a more general \"step-back\" query.\n",
    "\n",
    "##### 3. Sub-query Decomposition\n",
    "###### Purpose: To break down complex queries into simpler sub-queries for more comprehensive information retrieval.\n",
    "###### Implementation:\n",
    "###### Uses a GPT-4 model with a custom prompt template\n",
    "###### Decomposes the original query into 2-4 simpler sub-queries\n",
    "\n",
    "#### Benefits of these Approaches\n",
    "\n",
    "###### 1. Improved Relevance: Query Rewriting "
   ]
  }
 ],
 "metadata": {
  "language_info": {
   "name": "python"
  }
 },
 "nbformat": 4,
 "nbformat_minor": 2
}
