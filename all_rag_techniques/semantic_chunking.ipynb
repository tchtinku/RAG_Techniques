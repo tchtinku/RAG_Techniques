{
 "cells": [
  {
   "cell_type": "markdown",
   "metadata": {},
   "source": [
    "### Semantic Chunking for Document Processing\n",
    "\n",
    "### Overview\n",
    "\n",
    "###### This code impleaments a semantic chunking approach for processing and retrieving information from PDF documents. Unlike traditional methods that split text based on fixed character or word counts, semantic chunking aims to create more meaningful and context aware text segments.\n",
    "\n",
    "### Motivation\n",
    "\n",
    "###### Traditional text splitting methods often break documents at arbitrary points, potentially disrupting the flow of information and context. Semantic chunking addresses this issue by attempting to split text at more natural breakpoints, preserving semantic coherence within each chunk.\n",
    "\n",
    "### Key Components\n",
    "\n",
    "###### 1. PDF processing and text extraction\n",
    "###### 2. Semantic chunking using LangChain's SemanticChunker\n",
    "###### 3. Vector store creation using FAISS and OpenAI embeddings\n",
    "###### 4. Retriever setup for querying the processed documents\n",
    "\n",
    "### Method Details\n",
    "\n",
    "#### Document Preprocessing\n",
    "\n",
    "###### 1. The PDF is read and converted to a string using a custom read_pdf_to_string function.\n",
    "\n",
    "### Semantic Chunking\n",
    "\n",
    "###### 1. Utilizes LangChain's SemanticChunker with OpenAI embeddings.\n",
    "###### 2. Three breakpoint types are available\n",
    "       ###### 'percentile': Splits at differences greater than the X percentile\n",
    "       ######  'standard_deviation': Splits at differences greater than X standard deviations.\n",
    "       ###### 'interquartile': Uses the interquartile distance to determine splits points.\n",
    "###### 3. In this implementation, the 'percentile' method is used with a threshold of 90.\n",
    "\n",
    "### Vector Store Creation\n",
    "\n",
    "###### 1. OpenAI embeddings are used to create vector representation of the semantic chunks.\n",
    "###### 2. A FAISS vector store is created from these embeddings for efficient similarity search.\n",
    "\n",
    "### Retriever Setup\n",
    "\n",
    "###### 1. A retriever is configured to fetch the top 2 most relevant chunks for a given query.\n",
    "\n",
    "### Key Features\n",
    "\n",
    "###### 1. Context-Aware Splitting: Attempts to maintain semantic coherence within chunks\n",
    "###### 2. Flexible Configuration: Allows for different breakpoint types and thresholds\n",
    "###### 3. Integration with Advanced NLP Tools: Uses OpenAI embeddings for both chunking and retrieval\n",
    "\n",
    "### Benefits of this Approach\n",
    "\n",
    "###### 1. Improved Coherence: Chunks are more likely to contain complete thoughts or ideas.\n",
    "###### 2. Better Retrieval Relevance: By preserving context, retrieval accuracy may be enhanced.\n",
    "###### 3. Adaptability: The chunking method can be adjusted based on the nature of the documents and retrieval needs.\n",
    "###### 4. Potential for Better Understanding: LLMs or downstream tasks may perform better with more coherent text segments.\n",
    "\n",
    "### Implementation Details\n",
    "\n",
    "###### 1. Uses OpenAI's embeddings for both the semantic chunking process and the final vector representations.\n",
    "###### 2. Employs FAISS for creating an efficient searchable index of the chunks.\n",
    "###### 3. The retriever is set up to return the top 2 most relevant chunks, which can be adjusted as needed\n",
    "\n",
    "### Example Usage\n",
    "\n",
    "###### The code includes a test query: \"What is the main cause of climate change?\". This demonstrates how the semantic chunking nd retrieval system can be used to find relevant information from the processed document.\n",
    "\n",
    "### Conclusion\n",
    "\n",
    "###### Semantic Chunking represents an advanced approach to document processing for retrieval systems. By attempting to maintain semantic coherence within text segments, it has the potential to improve the quality of retrieved information and enhance the performance of downstream NLP tasks. This technique is particularly valuable for processing long, complex documents where maintaining context is crucial, such as scientific papers, legal documents, or comprehensive reports.\n",
    "\n",
    "### Import Libraries"
   ]
  },
  {
   "cell_type": "code",
   "execution_count": null,
   "metadata": {
    "vscode": {
     "languageId": "plaintext"
    }
   },
   "outputs": [],
   "source": [
    "import os\n",
    "import sys\n",
    "from dotenv import load_dotenv\n",
    "\n",
    "sys.path.append(os.path.abspath(os.path.join(os.getcwd(), '..'))) #Add the parent directory to the path since we work with notebooks.\n",
    "from helper_functions import *\n",
    "from evaluation.evaluate_rag import *\n",
    "\n",
    "from langchain_experimental.text_splitter import SemanticChunker\n",
    "from langchain_openai.embeddings import OpenAIEmbeddings\n",
    "\n",
    "# Load environment variables from a .env file\n",
    "load_dotenv()\n",
    "\n",
    "#Set the OpenAI API key environment variables\n",
    "os.environ[\"OPENAI_API_KEY\"]=os.getenv('OPENAI_API_KEY')"
   ]
  },
  {
   "cell_type": "markdown",
   "metadata": {},
   "source": [
    "### Define File pATH"
   ]
  },
  {
   "cell_type": "code",
   "execution_count": null,
   "metadata": {
    "vscode": {
     "languageId": "plaintext"
    }
   },
   "outputs": [],
   "source": [
    "path = \"../data/Understanding_Climate_Change.pdf\""
   ]
  },
  {
   "cell_type": "markdown",
   "metadata": {},
   "source": [
    "### Read PDF to string"
   ]
  },
  {
   "cell_type": "code",
   "execution_count": null,
   "metadata": {
    "vscode": {
     "languageId": "plaintext"
    }
   },
   "outputs": [],
   "source": [
    "content = read_pdf_to_string(path)"
   ]
  },
  {
   "cell_type": "markdown",
   "metadata": {},
   "source": [
    "### Breakpoint types\n",
    " #### 1. 'percentile': All differences between sentences are calculated, and then any difference greater than the X percentile is split.\n",
    " #### 2. 'standard_deviation': any difference greater than X standard deviations is split.\n",
    " #### 3. 'interquartile': the interquartile distance is used to split chunks."
   ]
  },
  {
   "cell_type": "code",
   "execution_count": null,
   "metadata": {
    "vscode": {
     "languageId": "plaintext"
    }
   },
   "outputs": [],
   "source": [
    "text_splitter = SemanticChunker(OpenAIEmbeddings(), breakpoint_threshold_type='percentile', breakpoint_threshold_amount=90) # Chose which embeddings nd breakpoint type and threshold to use"
   ]
  },
  {
   "cell_type": "markdown",
   "metadata": {},
   "source": [
    "### Split original text to Semantic Chunks"
   ]
  },
  {
   "cell_type": "code",
   "execution_count": null,
   "metadata": {
    "vscode": {
     "languageId": "plaintext"
    }
   },
   "outputs": [],
   "source": [
    "docs = text_splitter.create_documents([content])"
   ]
  },
  {
   "cell_type": "markdown",
   "metadata": {},
   "source": [
    "### Create vector store & Retriever"
   ]
  },
  {
   "cell_type": "code",
   "execution_count": null,
   "metadata": {
    "vscode": {
     "languageId": "plaintext"
    }
   },
   "outputs": [],
   "source": [
    "embeddings = OpenAIEmbeddings()\n",
    "vectorstore = FAISS.from_documents(docs, embeddings)\n",
    "chunks_query_retriever = vectorstore.as_retriever(search_kwargs={\"k\": 2})"
   ]
  },
  {
   "cell_type": "markdown",
   "metadata": {},
   "source": [
    "### Test the retriever"
   ]
  },
  {
   "cell_type": "code",
   "execution_count": null,
   "metadata": {
    "vscode": {
     "languageId": "plaintext"
    }
   },
   "outputs": [],
   "source": [
    "test_query = \"What is the main cause of climate change?\"\n",
    "context = retrieve_context_per_question(test_query, chunks_query_retriever)\n",
    "show_context(context)"
   ]
  }
 ],
 "metadata": {
  "language_info": {
   "name": "python"
  }
 },
 "nbformat": 4,
 "nbformat_minor": 2
}
