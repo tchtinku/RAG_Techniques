{
 "cells": [
  {
   "cell_type": "markdown",
   "metadata": {},
   "source": [
    "### Simple RAG (Retrieval-Augmented Generation) System for CSV files\n",
    "\n",
    "### Overview\n",
    "\n",
    "###### This code implements a basic Retrieval-Augmented Generation (RAG) system for processing and querying csv documents. The system encodes the document content into a vector store, which can then be queried to retrieve relevant information.\n",
    "\n",
    "### CSV File Structure and Use Case\n",
    "\n",
    "###### The csv file contains dummy customer data, compprising avrious attributes like first name, lastname, company, etc. This data will be utilized for a RAG use case,facilitating te creation of a customer information Q&A system.\n",
    "\n",
    "### Key Components\n",
    "\n",
    "###### 1. Loading and splitting csv files\n",
    "###### 2. Vector store creation using FAISS nd OpenAI embeddings\n",
    "###### 3. Retriever setup for querying the processed documents\n",
    "###### 4. Creating a question and answer over the csv data\n",
    "\n",
    "### Method Details\n",
    "\n",
    "### Document Preprocessing\n",
    "\n",
    "###### 1. The csv is loaded using langchain Csvloader\n",
    "###### 2. The data is split into chunks\n",
    "\n",
    "\n",
    "### Vector store creation\n",
    "\n",
    "###### 1. OpenAI embeddings are used to create vector representation of the text chunks.\n",
    "###### 2. A FAISS vector store is created from these embeddings for efficient imilarity search\n",
    "\n",
    "### Retriever Setup\n",
    "\n",
    "###### 1. A retriever is onfigured to fetch the most relevant chunks for a given query.\n",
    "\n",
    "### Benefits of this Approach\n",
    "\n",
    "###### 1. Scalability: Can handle large documents by processing them in chunks.\n",
    "###### 2. Flexibility: Easy to adjust parameters like chunk size and number of retrieved results.\n",
    "###### 3. Efficiency: Utilizes FAISS for fast similarity search in high-dimensional spaces.\n",
    "###### 4. Integartion with Advanced NLP: Uses OpenAI embeddings for state-of-the-art text representation\n",
    "\n",
    "### Conclusion\n",
    "\n",
    "###### This simple RAG system provides a solid foundation for building more complex information retrieval nd question-answering sytems. By encoding document content into a searchable vector store, it enables efficient retrieval of relevant information in response to queries. This approach is particularly useful for applications requiring quick access to specific information within a csv file.\n",
    "\n",
    "### Import Libraries"
   ]
  },
  {
   "cell_type": "markdown",
   "metadata": {},
   "source": [
    "from langchain_community.document_loaders.csv_loader import CSVLoader\n",
    "from pathlib import Path\n",
    "from langchain_openai import ChatOpenAI, OpenAIEmbeddings\n",
    "import os\n",
    "from dotenv import load_dotenv\n",
    "\n",
    "# Load environment variables from a .env file\n",
    "load_dotenv()\n",
    "\n",
    "# Set the OpenAI API key environment variables\n",
    "os.environ[\"OPENAI_API_KEY\"] = os.getenv('OPENAI_API_KEY')\n",
    "\n",
    "llm = ChatOpenAI(model=\"gpt-3.5-turbo-0125\")"
   ]
  },
  {
   "cell_type": "markdown",
   "metadata": {},
   "source": [
    "#### CSV file structure and Use Case\n",
    "\n",
    "###### The CSV file contains dummy customer data, comprising various attributes like first name, last name, company, etc. This dataset will be utilized for a RAG use case, facilitating the creation of a customer information Q&A system."
   ]
  },
  {
   "cell_type": "markdown",
   "metadata": {},
   "source": [
    "import pandas as pd\n",
    "\n",
    "file_path = ('../data/customers-100.csv') # insert the path of the csv file\n",
    "data = pd.read_csv(file_path)\n",
    "\n",
    "#preview the csv file\n",
    "data.head()"
   ]
  },
  {
   "cell_type": "markdown",
   "metadata": {},
   "source": [
    "###### load and process csv data"
   ]
  },
  {
   "cell_type": "code",
   "execution_count": null,
   "metadata": {
    "vscode": {
     "languageId": "plaintext"
    }
   },
   "outputs": [],
   "source": [
    "loader = CSVLoader(file_path=file_path)\n",
    "docs = loader.load_and_split()"
   ]
  },
  {
   "cell_type": "markdown",
   "metadata": {},
   "source": [
    "###### Initiate faiss vector store and openai embedding"
   ]
  },
  {
   "cell_type": "code",
   "execution_count": null,
   "metadata": {
    "vscode": {
     "languageId": "plaintext"
    }
   },
   "outputs": [],
   "source": [
    "import faiss\n",
    "from langchain_community.docstore.in_memory import InMemoryDocstore\n",
    "from langchain_community.vectorstores import FAISS\n",
    "\n",
    "embeddings = OpenAIEmbeddings()\n",
    "index = faiss.IndexFlatL2(len(OpenAIEmbeddings().embed_query(\" \")))\n",
    "vector_store = FAISS(\n",
    "    embedding_function=OpenAIEmbeddings(),\n",
    "    index=index,\n",
    "    docstore=InMemoryDocstore(),\n",
    "    index_to_docstore_id={}\n",
    ")"
   ]
  },
  {
   "cell_type": "markdown",
   "metadata": {},
   "source": [
    "###### Add the splitted csv data to the vector store"
   ]
  },
  {
   "cell_type": "code",
   "execution_count": null,
   "metadata": {
    "vscode": {
     "languageId": "plaintext"
    }
   },
   "outputs": [],
   "source": [
    "vector_store.add_documents(documents=docs)"
   ]
  },
  {
   "cell_type": "markdown",
   "metadata": {},
   "source": [
    "###### Create the retrieval chain"
   ]
  },
  {
   "cell_type": "code",
   "execution_count": null,
   "metadata": {
    "vscode": {
     "languageId": "plaintext"
    }
   },
   "outputs": [],
   "source": [
    "from langchain_core.prompts import ChatPromptTemplate\n",
    "from langchain.chains import create_retrieval_chain\n",
    "from langchain.chains.combine_documents import create_stuff_documents_chain\n",
    "\n",
    "retriever = vector_store.as_retriever()\n",
    "\n",
    "#Set up system prompt\n",
    "system_prompt = (\n",
    "    \"You are an assistant for question-answering tasks\",\n",
    "    \"Use the following pieces of retrieved context to answer\",\n",
    "    \"the question. If you don't know the answer, say that you\",\n",
    "    \"don't know. Use three sentences maximum and keep the\",\n",
    "    \"answer concise.\"\n",
    "    \"\\n\\n\",\n",
    "    \"{context}\"\n",
    ")\n",
    "\n",
    "prompt = ChatPromptTemplate.from_messages([\n",
    "    (\"system\", system_prompt),\n",
    "    (\"human\", \"{input}\"),\n",
    "])\n",
    "\n",
    "# Create the question answer chain\n",
    "question_answer_chain = create_stuff_documents_chain(llm, prompt)\n",
    "rag_chain = create_retrieval_chain(retriever, question_answer_chain)"
   ]
  },
  {
   "cell_type": "markdown",
   "metadata": {},
   "source": [
    "###### Query the rag bot with a question based on the CSV data"
   ]
  },
  {
   "cell_type": "code",
   "execution_count": null,
   "metadata": {
    "vscode": {
     "languageId": "plaintext"
    }
   },
   "outputs": [],
   "source": [
    "answer = rag_chain.invoke({\"input\": \"Which company does Sheryl Baxter work for?\"})\n",
    "answer['answer']"
   ]
  }
 ],
 "metadata": {
  "language_info": {
   "name": "python"
  }
 },
 "nbformat": 4,
 "nbformat_minor": 2
}
