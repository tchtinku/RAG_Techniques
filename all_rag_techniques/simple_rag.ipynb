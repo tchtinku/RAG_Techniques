{
 "cells": [
  {
   "cell_type": "markdown",
   "metadata": {},
   "source": [
    "### Simple RAG (Retrieval-Augmented Generation) System\n",
    "\n",
    "#### Overview\n",
    "\n",
    "###### This code implements a basic Retrieval-Augmented Generation (RAG) system for processing and querying PDF\n",
    "###### documents. The system encodes the document content into a vector store, which can then be queried to retrieve relevant information.\n",
    "\n",
    "#### Key Components\n",
    "\n",
    "###### 1. PDF processing and text information\n",
    "###### 2. Text chunking for manageable processing\n",
    "###### 3. Vector store creation using FAISS and OpenAI embeddings\n",
    "###### 4. Retriever setup for querying the processed documents\n",
    "###### 5. Evaluation of the RAG system\n",
    "\n",
    "#### Method Details\n",
    "\n",
    "##### Document Preprocessing\n",
    "\n",
    "###### 1. The PDF is loaded using PyPDFLoader\n",
    "###### 2. The text is split into chunks using RecursiveCharacterTextSplitter with specified chunk size and overlap.\n",
    "\n",
    "##### Text Cleaning\n",
    "\n",
    "###### A custom function replace_t_with_space is applied to clean the text chunks. This likely addresses specifies formatting issues in the PDF.\n",
    "\n",
    "##### Vector Store Creation\n",
    "\n",
    "###### 1. OpenAI embeddings are used \n",
    "\n"
   ]
  }
 ],
 "metadata": {
  "language_info": {
   "name": "python"
  }
 },
 "nbformat": 4,
 "nbformat_minor": 2
}
