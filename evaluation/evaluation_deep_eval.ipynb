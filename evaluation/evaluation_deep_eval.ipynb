{
 "cells": [
  {
   "cell_type": "markdown",
   "metadata": {},
   "source": [
    "### Deep Evaluation of RAG Systems using deepeval\n",
    "\n",
    "#### Overview\n",
    "\n",
    "###### This code demonstrates the use of the deepeval library to perform comprehensive evaluations of Retrieval-Augmented Generation (RAG) systems. It covers various evaluation metrics and provides a framework for creating and running test cases.\n",
    "\n",
    "#### Key Components\n",
    "##### Correctness Evaluation\n",
    "##### Faithfulness Evaluation\n",
    "##### Contextual Relevancy Evaluation\n",
    "##### Combined Evaluation of Multiple Metrics\n",
    "##### Batch Test Case Creation\n",
    "\n",
    "#### Evaluation Metrics\n",
    "##### 1. Correctness (GEval)\n",
    "##### Evaluates whether the actual output is factually correct based on the expected output.\n",
    "##### Uses GPT-4 as the evaluation model.\n",
    "##### Compares the expected and actual outputs.\n",
    "##### 2. Faithfulness (FaithfulnessMetric)\n",
    "##### Assesses whether the generated answer is faithful to the provided context.\n",
    "##### Uses GPT-4 as the evaluation model.\n",
    "##### Can provide detailed reasons for the evaluation.\n",
    "##### 3. Contextual Relevancy (ContextualRelevancyMetric)\n",
    "##### Evaluates how relevant the retrieved context is to the question and answer.\n",
    "##### Uses GPT-4 as the evaluation model.\n",
    "##### Can provide detailed reasons for the evaluation.\n",
    "\n",
    "#### Key Features\n",
    "##### Flexible Metric Configuration: Each metric can be customized with different models and parameters.\n",
    "##### Multi-Metric Evaluation: Ability to evaluate test cases using multiple metrics simultaneously.\n",
    "##### Batch Test Case Creation: Utility function to create multiple test cases efficiently.\n",
    "##### Detailed Feedback: Options to include detailed reasons for evaluation results.\n",
    "\n",
    "#### Benefits of this Approach\n",
    "##### Comprehensive Evaluation: Covers multiple aspects of RAG system performance.\n",
    "##### Flexibility: Easy to add or modify evaluation metrics and test cases.\n",
    "##### Scalability: Capable of handling multiple test cases and metrics efficiently.\n",
    "##### Interpretability: Provides detailed reasons for evaluation results, aiding in system improvement.\n",
    "\n",
    "#### Conclusion\n",
    "##### This deep evaluation approach using the deepeval library offers a robust framework for assessing the performance of RAG systems. By evaluating correctness, faithfulness, and contextual relevancy, it provides a multi-faceted view of system performance. This comprehensive evaluation is crucial for identifying areas of improvement and ensuring the reliability and effectiveness of RAG systems in real-world applications."
   ]
  },
  {
   "cell_type": "code",
   "execution_count": null,
   "metadata": {
    "vscode": {
     "languageId": "plaintext"
    }
   },
   "outputs": [],
   "source": [
    "from deepval import evaluate\n",
    "from deepval.metrics import GEval, FaithfulnessMetric, ContextualelevancyMetric\n",
    "from deepval.test_case import LLMTestCase, LLMTestCaseParams"
   ]
  },
  {
   "cell_type": "markdown",
   "metadata": {},
   "source": [
    "#### Test Correctness"
   ]
  },
  {
   "cell_type": "code",
   "execution_count": null,
   "metadata": {
    "vscode": {
     "languageId": "plaintext"
    }
   },
   "outputs": [],
   "source": [
    "correctness_metric = GEval(\n",
    "    name=\"Correctness\",\n",
    "    model=\"gpt-4o\",\n",
    "    evaluation_params=[\n",
    "        LLMTestCaseParams.EXPECTED_OUTPUT,\n",
    "        LLMTestCaseParams.ACTUAL_OUTPUT\n",
    "    ],\n",
    "    evaluation_steps=[\n",
    "        \"Determine whether the actual output is factually correct based on the expected output.\"\n",
    "    ],\n",
    ")\n",
    "\n",
    "gt_answer = \"Madrid is the capital of spain.\"\n",
    "pred_answer = \"Madrid\"\n",
    "\n",
    "test_case_correctness = LLMTestCase(\n",
    "    input=\"What is the capital of Spain?\",\n",
    "    expected_output=gt_answer,\n",
    "    actual_output=pred_answer,\n",
    ")\n",
    "\n",
    "correctness_metric.measure(test_case_correctness)\n",
    "print(correctness_metric.score)"
   ]
  },
  {
   "cell_type": "markdown",
   "metadata": {},
   "source": [
    "#### Test faithfulness"
   ]
  },
  {
   "cell_type": "code",
   "execution_count": null,
   "metadata": {
    "vscode": {
     "languageId": "plaintext"
    }
   },
   "outputs": [],
   "source": [
    "question = \"What is 3+3?\"\n",
    "context = [\"6\"]\n",
    "generated_answer = \"6\"\n",
    "\n",
    "faithfulness_metric = FaithfulnessMetric(\n",
    "    threshold=0.7,\n",
    "    model=\"gpt-4o\",\n",
    "    include_reason=False\n",
    ")\n",
    "\n",
    "test_case = LLMTestCase(\n",
    "    input=question,\n",
    "    actual_output=generated_answer,\n",
    "    retrieval_context=context\n",
    ")\n",
    "\n",
    "faithfulness_metric.measure(test_case)\n",
    "print(faithfulness_metric.score)\n",
    "print(faithfulness_metric.reason)\n"
   ]
  },
  {
   "cell_type": "markdown",
   "metadata": {},
   "source": [
    "#### Test contextual relevancy"
   ]
  },
  {
   "cell_type": "code",
   "execution_count": null,
   "metadata": {
    "vscode": {
     "languageId": "plaintext"
    }
   },
   "outputs": [],
   "source": [
    "actual_output=\"then go somewhere else.\"\n",
    "retrieval_context = [\"this is a test context\",\"mike is a cat\",\"if the shoes don't fit, then go somewhere else.\"]\n",
    "gt_answer = \"if the shoes don't fit, then go somewhere else.\"\n",
    "\n",
    "relevance_metric = ContextualRelevancyMetric(\n",
    "    threshold=1,\n",
    "    model=\"gpt-4\",\n",
    "    include_reason=True\n",
    ")\n",
    "relevance_test_case = LLMTestCase(\n",
    "    input=\"What if these shoes doesn't fit?\",\n",
    "    actual_output=actual_output,\n",
    "    retrieval_context=retrieval_context,\n",
    "    expected_output=gt_answer\n",
    ")\n",
    "\n",
    "relevance_metric.measure(relevance_test_case)\n",
    "print(relevance_metric.score)\n",
    "print(relevance_metric.reason)"
   ]
  },
  {
   "cell_type": "code",
   "execution_count": null,
   "metadata": {
    "vscode": {
     "languageId": "plaintext"
    }
   },
   "outputs": [],
   "source": [
    "new_test_case = LLMTestCase(\n",
    "    input=\"What is the capital of Spain?\",\n",
    "    expected_output=\"Madrid is the Capital of Spain.\",\n",
    "    actual_output=\"Madrid.\",\n",
    "    retrieval_context=[\"Madrid is the Capital of Spain\"]\n",
    ")"
   ]
  },
  {
   "cell_type": "markdown",
   "metadata": {},
   "source": [
    "#### Test two different cases together with several metrics together"
   ]
  },
  {
   "cell_type": "code",
   "execution_count": null,
   "metadata": {
    "vscode": {
     "languageId": "plaintext"
    }
   },
   "outputs": [],
   "source": [
    "evaluate(\n",
    "    test_case = [relevance_test_case, new_test_case],\n",
    "    metrics = [correctness_metric, faithfulness_metric, relevance_metric]\n",
    ")"
   ]
  },
  {
   "cell_type": "markdown",
   "metadata": {},
   "source": [
    "#### Funcion to create multiple LLMTestCases based on four lists:\n",
    "#### Questions\n",
    "#### Ground Truth Answers\n",
    "#### Generated Answers\n",
    "#### Retrieved Documents - Each element is a list"
   ]
  },
  {
   "cell_type": "code",
   "execution_count": null,
   "metadata": {
    "vscode": {
     "languageId": "plaintext"
    }
   },
   "outputs": [],
   "source": [
    "def create_deep_eval_test_cases(questions, gt_answers, generated_answers, retrieved_documents):\n",
    "    return [\n",
    "        LLMTestCase(\n",
    "            input=question,\n",
    "            expected_output=gt_answer,\n",
    "            actual_output=generated_answer,\n",
    "            retrieval_context=retrieved_document\n",
    "        )\n",
    "        for question, gt_answer, generated_answer, retrieved_document in zip(\n",
    "            questions, gt_answers, generated_answers, retrieved_documents\n",
    "        )\n",
    "    ]"
   ]
  }
 ],
 "metadata": {
  "language_info": {
   "name": "python"
  }
 },
 "nbformat": 4,
 "nbformat_minor": 2
}
